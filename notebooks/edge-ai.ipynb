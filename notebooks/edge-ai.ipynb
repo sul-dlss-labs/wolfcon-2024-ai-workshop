{
 "cells": [
  {
   "cell_type": "markdown",
   "id": "3fbf4da5-dc53-4f2b-8676-6b1bdf193165",
   "metadata": {},
   "source": [
    "# Edge-AI"
   ]
  },
  {
   "cell_type": "code",
   "execution_count": null,
   "id": "d9bb29e2-ae8f-4a3e-8429-41e6b4aaa819",
   "metadata": {},
   "outputs": [],
   "source": [
    "import datetime\n",
    "import json\n",
    "import pathlib\n",
    "\n",
    "import httpx\n",
    "\n",
    "edge_ai_url = \"http://localhost:8000\""
   ]
  },
  {
   "cell_type": "code",
   "execution_count": null,
   "id": "950deca9-af8e-4705-a02a-7db829e89729",
   "metadata": {},
   "outputs": [],
   "source": [
    "prompt = \"The book, The Ministry for the Future, by Kim Stanley Robinson published in 2020 by Orbit, New York\""
   ]
  },
  {
   "cell_type": "code",
   "execution_count": null,
   "id": "0dd3af67-e190-4ea5-8371-5d860e256609",
   "metadata": {},
   "outputs": [],
   "source": [
    "result = httpx.post(f\"{edge_ai_url}/inventory/instance/generate\",\n",
    "                    json={\"text\": prompt})"
   ]
  },
  {
   "cell_type": "code",
   "execution_count": null,
   "id": "5ac31882-c44f-4c50-ab77-2001e3a8322e",
   "metadata": {},
   "outputs": [],
   "source": [
    "result.json()"
   ]
  },
  {
   "cell_type": "code",
   "execution_count": null,
   "id": "7def8f97-07eb-48f9-85ed-60daec7808ea",
   "metadata": {},
   "outputs": [],
   "source": [
    "second_prompt = \"Please catalog the book titled The Dark Archive by Genevieve Cogman published in 2020 by ACE in New York\""
   ]
  },
  {
   "cell_type": "code",
   "execution_count": null,
   "id": "a0a603bf-5a08-4ab1-8bb8-b31f6169bebf",
   "metadata": {},
   "outputs": [],
   "source": [
    "second_result = httpx.post(f\"{edge_ai_url}/inventory/instance/generate\",\n",
    "                    json={\"text\": second_prompt})"
   ]
  },
  {
   "cell_type": "code",
   "execution_count": null,
   "id": "78e563f4-5119-4c24-9076-442d46ac180d",
   "metadata": {},
   "outputs": [],
   "source": [
    "second_result.json()"
   ]
  },
  {
   "cell_type": "code",
   "execution_count": null,
   "id": "cbf82f0b-fb64-41ef-a08a-4d2d9e9ef13c",
   "metadata": {},
   "outputs": [],
   "source": [
    "second_result.json()['instance']"
   ]
  },
  {
   "cell_type": "code",
   "execution_count": null,
   "id": "92471ec5-f69b-4288-b59b-3f6a042bd0f5",
   "metadata": {},
   "outputs": [],
   "source": [
    "third_prompt = \"Please catalog Better Homes & Garden's Salad Book published in 1958 in New York\""
   ]
  },
  {
   "cell_type": "code",
   "execution_count": null,
   "id": "b1806ea8-d386-48e6-b0ef-6058adc9727a",
   "metadata": {},
   "outputs": [],
   "source": [
    "third_result = httpx.post(f\"{edge_ai_url}/inventory/instance/generate\",\n",
    "                    json={\"text\": third_prompt})"
   ]
  },
  {
   "cell_type": "code",
   "execution_count": null,
   "id": "e7869300-633e-4f4e-a5f1-d25507af9a15",
   "metadata": {},
   "outputs": [],
   "source": [
    "third_result"
   ]
  },
  {
   "cell_type": "code",
   "execution_count": null,
   "id": "e34850a8-6f44-400f-91e6-68ea04b12a2b",
   "metadata": {},
   "outputs": [],
   "source": [
    "third_result.json()"
   ]
  },
  {
   "cell_type": "code",
   "execution_count": null,
   "id": "296311ef-2e33-4f78-975e-ca3cc136c6bc",
   "metadata": {},
   "outputs": [],
   "source": [
    "second_result.json()"
   ]
  },
  {
   "cell_type": "markdown",
   "id": "44586e3d-6376-4a88-841a-780952e5a22f",
   "metadata": {},
   "source": [
    "## Indexing Records in RAG index"
   ]
  },
  {
   "cell_type": "code",
   "execution_count": null,
   "id": "9ccebe58-6c8a-46a5-9591-dc3a2b1f16d8",
   "metadata": {},
   "outputs": [],
   "source": [
    "records_path = pathlib.Path(\n",
    "    \"local-instance-2024-08-22T00:52:49.671780+00:00.jsonl\"\n",
    ")"
   ]
  },
  {
   "cell_type": "code",
   "execution_count": null,
   "id": "18d716c5-5be5-49fb-85d3-ad33b42d6f39",
   "metadata": {},
   "outputs": [],
   "source": [
    "result = httpx.post(\n",
    "    f\"{edge_ai_url}/inventory/instance/index\",\n",
    "    json={\"source\": str(records_path.absolute()) },\n",
    "    timeout=60.\n",
    ")"
   ]
  },
  {
   "cell_type": "code",
   "execution_count": null,
   "id": "38e39b56-a9c1-4ca4-8ac8-a02e3df63b37",
   "metadata": {},
   "outputs": [],
   "source": [
    "result"
   ]
  },
  {
   "cell_type": "code",
   "execution_count": null,
   "id": "9a8e07d3-e5a2-4fe9-bf55-a92e49abd43a",
   "metadata": {},
   "outputs": [],
   "source": [
    "result.json()"
   ]
  },
  {
   "cell_type": "code",
   "execution_count": null,
   "id": "e3a49dec-8ea4-4d5e-97b0-77e5dda70975",
   "metadata": {},
   "outputs": [],
   "source": [
    "index_path = pathlib.Path(\"/Users/jpnelson/40-49 AI and Machine Learning/41.02 FOLIO AI Edge Module/.ragatouille/colbert/indexes/Instances\")"
   ]
  },
  {
   "cell_type": "code",
   "execution_count": null,
   "id": "9f4586d1-c5da-4523-b439-ac06042fee83",
   "metadata": {},
   "outputs": [],
   "source": [
    "index_path.exists()"
   ]
  },
  {
   "cell_type": "code",
   "execution_count": null,
   "id": "2c767fa2-a021-40fa-800b-15d3acc48e0d",
   "metadata": {},
   "outputs": [],
   "source": [
    "result = httpx.post(\n",
    "    f\"{edge_ai_url}/inventory/instance/similarity\",\n",
    "    json={\n",
    "        \"text\": {'title': 'The Ministry for the Future',\n",
    " 'source': 'FOLIO',\n",
    " 'instanceTypeText': 'text',\n",
    " 'contributors': [{'name': 'Kim Stanley Robinson',\n",
    "   'contributorTypeText': 'Author'}],\n",
    " 'publication': [{'publisher': 'Orbit',\n",
    "   'dateOfPublication': '2020',\n",
    "   'place': 'New York'}]}},\n",
    "    timeout=60\n",
    ")"
   ]
  },
  {
   "cell_type": "code",
   "execution_count": null,
   "id": "e619234f-efdb-4b37-8a67-fb89eab2930b",
   "metadata": {},
   "outputs": [],
   "source": [
    "result"
   ]
  },
  {
   "cell_type": "code",
   "execution_count": null,
   "id": "c50c4179-7e54-46ef-a3d1-499e77e3bfa3",
   "metadata": {},
   "outputs": [],
   "source": [
    "result.json()"
   ]
  },
  {
   "cell_type": "code",
   "execution_count": null,
   "id": "61d6cae2-ab04-47c1-9843-acb8731c319d",
   "metadata": {},
   "outputs": [],
   "source": [
    "existing_instance = json.loads('{\"id\": \"bab80eca-e29c-459c-a8ea-8c282311f155\", \"_version\": \"3\", \"hrid\": \"in2333978\", \"source\": \"MARC\", \"title\": \"Chronik der christlichen Welt ...\", \"administrativeNotes\": [], \"indexTitle\": \"Chronik der christlichen Welt ...\", \"parentInstances\": [], \"childInstances\": [], \"isBoundWith\": false, \"alternativeTitles\": [], \"editions\": [], \"series\": [], \"identifiers\": [{\"value\": \"(ICU)BID21257283\", \"identifierTypeText\": \"System Control Number\"}, {\"value\": \"(OCoLC)191709788\", \"identifierTypeText\": \"OCLC\"}], \"contributors\": [], \"subjects\": [{\"authorityId\": null, \"value\": \"Lutheran church--Periodicals.\"}, {\"authorityId\": null, \"value\": \"Periodicals.\"}], \"classifications\": [], \"publication\": [{\"publisher\": \"J.C.B. Mohr\", \"place\": \"Leipzig [etc.]\", \"dateOfPublication\": null, \"role\": null}], \"publicationFrequency\": [], \"publicationRange\": [\"Ceased with v. 27 (1917).\"], \"electronicAccess\": [], \"instanceFormatIds\": [], \"physicalDescriptions\": [\"v. 34 cm.\"], \"languages\": [\"ger\"], \"notes\": [], \"modeOfIssuanceId\": \"363895f3-3c52-421e-8f78-9ec105ec15f1\", \"previouslyHeld\": false, \"discoverySuppress\": false, \"statisticalCodeIds\": [\"05dfeb83-c186-433e-aa98-a8372b73c5b8\"], \"statusId\": \"319fefa7-92bd-4d45-9746-4614555955c6\", \"statusUpdatedDate\": \"2019-12-18T22:11:08Z\", \"tags\": {\"tagList\": []}, \"natureOfContentTermIds\": [], \"precedingTitles\": [], \"succeedingTitles\": [], \"instanceTypeText\": \"text\"}')"
   ]
  },
  {
   "cell_type": "code",
   "execution_count": null,
   "id": "6afea814-ade5-421a-8b4d-79096a364a0c",
   "metadata": {},
   "outputs": [],
   "source": [
    "result2 = httpx.post(\n",
    "    f\"{edge_ai_url}/inventory/instance/similarity\",\n",
    "    json={\n",
    "        \"text\": json.loads(result.json()['instance'])\n",
    "    },\n",
    "    timeout=60\n",
    ")"
   ]
  },
  {
   "cell_type": "code",
   "execution_count": null,
   "id": "480e7261-f1c7-4f6d-aac1-ae9e08c97cca",
   "metadata": {},
   "outputs": [],
   "source": [
    "result2.json()"
   ]
  },
  {
   "cell_type": "markdown",
   "id": "de7b9c5d-42e6-4833-9a50-94ea7e495095",
   "metadata": {},
   "source": [
    "## Find Similarity with Instance RAG"
   ]
  },
  {
   "cell_type": "code",
   "execution_count": null,
   "id": "31b4b83c-f015-48a0-9adf-cf4fe742c89e",
   "metadata": {},
   "outputs": [],
   "source": [
    "cookbook = json.loads(third_result.json()['instance'])"
   ]
  },
  {
   "cell_type": "code",
   "execution_count": null,
   "id": "79bf6d86-3693-43a9-bc6f-f67e71599784",
   "metadata": {},
   "outputs": [],
   "source": [
    "result = httpx.post(f\"{edge_ai_url}/inventory/instance/similarity\",\n",
    "                    json={\n",
    "                        \"text\": cookbook\n",
    "                    },\n",
    "                    timeout=60)"
   ]
  },
  {
   "cell_type": "code",
   "execution_count": null,
   "id": "ebba0a65-0f74-4f65-81ea-906e61e8568d",
   "metadata": {},
   "outputs": [],
   "source": [
    "result.json()"
   ]
  },
  {
   "cell_type": "markdown",
   "id": "bf309bb7-099b-4899-bc4f-ffdd63313200",
   "metadata": {},
   "source": [
    "## Index 10k Instances \n"
   ]
  },
  {
   "cell_type": "code",
   "execution_count": null,
   "id": "d39df99f-4371-4f55-882e-fe8416e8de10",
   "metadata": {},
   "outputs": [],
   "source": [
    "result = httpx.post(f\"{edge_ai_url}/inventory/instance/index/start?limit=10000&offset=4000000\")"
   ]
  },
  {
   "cell_type": "code",
   "execution_count": null,
   "id": "f4a64f39-a845-41c6-9ae0-09aaa58f7f47",
   "metadata": {},
   "outputs": [],
   "source": [
    "result.json()"
   ]
  },
  {
   "cell_type": "markdown",
   "id": "669d9f44-8f82-4131-af61-57735a3749ca",
   "metadata": {},
   "source": [
    "## Index 30k (by 10k each)"
   ]
  },
  {
   "cell_type": "code",
   "execution_count": null,
   "id": "928a143a-45cc-4907-81b3-91aabcc2078c",
   "metadata": {},
   "outputs": [],
   "source": [
    "start = datetime.datetime.now(datetime.UTC)\n",
    "print(f\"Starting at {start}\")\n",
    "dag_runs = []\n",
    "for offset in [3_775_000]: # 10_000, 150_000, 1_120_000,]: 2_250_000, 3_550_000, 3_775_000, 4_740_000, 5_910_000, 6_010_000, 7_840_000]:\n",
    "    print(f\"\\tStart offset {offset:,}\")\n",
    "    result = httpx.post(f\"{edge_ai_url}/inventory/instance/index/start?limit=10000&offset={offset}\")\n",
    "    print(f\"DAG run ID {result.json()['dag_run_id']}\")\n",
    "    dag_runs.append(result.json())\n",
    "end = datetime.datetime.now(datetime.UTC)\n",
    "print(f\"Finished at {end} Total time {(end-start).seconds:,} seconds\")"
   ]
  },
  {
   "cell_type": "code",
   "execution_count": null,
   "id": "d890fb1c-b6c7-4a67-bf9d-9bc54bbd9386",
   "metadata": {},
   "outputs": [],
   "source": []
  }
 ],
 "metadata": {
  "kernelspec": {
   "display_name": "Python 3 (ipykernel)",
   "language": "python",
   "name": "python3"
  },
  "language_info": {
   "codemirror_mode": {
    "name": "ipython",
    "version": 3
   },
   "file_extension": ".py",
   "mimetype": "text/x-python",
   "name": "python",
   "nbconvert_exporter": "python",
   "pygments_lexer": "ipython3",
   "version": "3.12.3"
  }
 },
 "nbformat": 4,
 "nbformat_minor": 5
}
