{
 "cells": [
  {
   "cell_type": "markdown",
   "id": "01c328b0-f430-46ed-8d9f-fe912805bf9e",
   "metadata": {},
   "source": [
    "# Fine Tuning with LLaMA CPP"
   ]
  },
  {
   "cell_type": "markdown",
   "id": "e05c885a-49bf-4eae-973e-88b80059368d",
   "metadata": {},
   "source": [
    "## Create Inventory Instance Training Set"
   ]
  },
  {
   "cell_type": "code",
   "execution_count": 1,
   "id": "8d49022b-47ec-42d8-adbc-7498beb1d93f",
   "metadata": {},
   "outputs": [],
   "source": [
    "import datetime\n",
    "import json\n",
    "import random\n",
    "import string\n",
    "\n",
    "from copy import deepcopy\n",
    "from folioclient import FolioClient\n",
    "\n",
    "folio_client = FolioClient(\n",
    "    'https://okapi-bugfest-quesnelia.int.aws.folio.org',\n",
    "    'fs09000000',\n",
    "    'folio',\n",
    "    'folio'\n",
    ")"
   ]
  },
  {
   "cell_type": "code",
   "execution_count": 6,
   "id": "c538117b-0d23-4ef9-8bf2-87a6d6e54df5",
   "metadata": {},
   "outputs": [],
   "source": [
    "def _expand_property(**kwargs):\n",
    "    instance: dict = kwargs[\"instance\"]\n",
    "    prop_name: str = kwargs[\"property_name\"]\n",
    "    type_id: str = kwargs[\"property_type_id\"]\n",
    "    type_lookups: dict = kwargs[\"type_lookups\"]\n",
    "\n",
    "    type_id_text = type_id.replace(\"Id\", \"Text\")\n",
    "    \n",
    "    for row in instance.get(prop_name, []):\n",
    "        if type_id not in row:\n",
    "            continue\n",
    "        instance_prop_type = row.pop(type_id)\n",
    "        row[type_id_text] = type_lookups[type_id].get(instance_prop_type, \"Unknown\") \n",
    "        \n",
    "    \n",
    "def expand_references(instance: dict, ref_data_lookups: dict) -> list:\n",
    "    for row in [\n",
    "        (\"contributors\", \"contributorNameTypeId\"),\n",
    "        (\"contributors\", \"contributorTypeId\"),\n",
    "        (\"classifications\", \"classificationTypeId\"),\n",
    "        (\"identifiers\", \"identifierTypeId\"),\n",
    "        (\"notes\", \"instanceNoteTypeId\")]:\n",
    "        _expand_property(\n",
    "            instance=instance,\n",
    "            property_name=row[0],\n",
    "            property_type_id=row[1],\n",
    "            type_lookups=ref_data_lookups)\n",
    "    for row in [\"instanceTypeId\", \"modeOfIssuanceId\"]:\n",
    "        if row in instance:\n",
    "            prop_id = instance.pop(row)\n",
    "            prop_text = row.replace(\"Id\", \"Text\")\n",
    "            instance[prop_text] = ref_data_lookups[row].get(prop_id, \"Unknown\")\n",
    "    return instance\n",
    "\n",
    "\n",
    "def folio_id_lookups(folio_client: FolioClient) -> dict:\n",
    "    lookups = {}\n",
    "    for row in [\n",
    "        (\"/classification-types\", \"classificationTypes\", \"classificationTypeId\"),\n",
    "        (\"/contributor-name-types\", \"contributorNameTypes\", \"contributorNameTypeId\"),\n",
    "        (\"/contributor-types\", \"contributorTypes\", \"contributorTypeId\"),\n",
    "        (\"/identifier-types\", \"identifierTypes\", \"identifierTypeId\"),\n",
    "        (\"/instance-note-types\", \"instanceNoteTypes\", \"instanceNoteTypeId\"),\n",
    "        (\"/instance-statuses\", \"instanceStatuses\", \"statusId\"),\n",
    "        (\"/instance-types\", \"instanceTypes\", \"instanceTypeId\"),\n",
    "        (\"/modes-of-issuance\", \"issuanceModes\", \"modeOfIssuanceId\")\n",
    "    ]:\n",
    "        folio_result_list = folio_client.folio_get(row[0], key=row[1], query_params={\"limit\": 500})\n",
    "        lookups[row[2]] = {}\n",
    "        for result in folio_result_list:\n",
    "            lookups[row[2]][result[\"id\"]] = result[\"name\"]\n",
    "    return lookups\n",
    "\n",
    "keep_properties = ['classifications',\n",
    " 'contributors',\n",
    " 'identifiers',\n",
    " 'instanceTypeId',\n",
    " 'instanceType',\n",
    " 'modeOfIssuanceId',\n",
    " 'publication',\n",
    " 'subjects',\n",
    " 'title'\n",
    "]\n",
    "\n",
    "def normalize(instance, folio_lookups):\n",
    "    mod_instance = deepcopy(instance)\n",
    "    # Filter on keep properties\n",
    "    for key,value in instance.items():\n",
    "        if key not in keep_properties:\n",
    "            mod_instance.pop(key)\n",
    "    mod_instance = expand_references(mod_instance, folio_lookups)\n",
    "    # Remove authorityIds\n",
    "    for prop_name in [\"contributors\", \"subjects\"]:\n",
    "        for row in mod_instance[prop_name]:\n",
    "            if \"authorityId\" in row:\n",
    "                row.pop(\"authorityId\")\n",
    "    return mod_instance\n",
    "\n",
    "def create_prompt(instance, extra_properties=[]):\n",
    "    prompt = f\"For {instance['title']}\"\n",
    "    creators, editors_publishers, contributors = [], [], []\n",
    "    for contributor in instance.get(\"contributors\", []):\n",
    "        if contributor['contributorTypeText'] in [\"Artist\", \"Author\", \"Contributor\"]:\n",
    "            creators.append(contributor[\"name\"])\n",
    "            contributors.append(contributor)\n",
    "        if contributor['contributorTypeText'] in [\"Editor\", \"Narrator\", \"Publisher\"]:\n",
    "            editors_publishers.append(f\"{contributor['contributorTypeText']} {contributor[\"name\"]}\")\n",
    "            contributors.append(contributor)\n",
    "    if len(creators) > 0:\n",
    "        creator_string = \", \".join(creators)\n",
    "        prompt = f\"{prompt} by {creator_string}.\"\n",
    "    if len(editors_publishers) > 0:\n",
    "        editor_publisher_string = \", \".join(editors_publishers)\n",
    "        prompt = f\"{prompt}{editor_publisher_string}. \"\n",
    "    instance[\"contributors\"] = contributors\n",
    "    # Use first Publisher\n",
    "    publication = instance.get(\"publication\", [])\n",
    "    if len(publication) > 0:\n",
    "        publication_string = \"Published\"\n",
    "        first_publisher = publication[0]\n",
    "        if first_publisher['dateOfPublication'] is not None:\n",
    "            publication_string += f\"in {first_publisher['dateOfPublication']}\"\n",
    "        if first_publisher['publisher'] is not None:\n",
    "            publication_string += f\" by {first_publisher['publisher']}\"\n",
    "        if first_publisher.get('place') is not None:\n",
    "            place = first_publisher.get('place','').translate(str.maketrans('', '', string.punctuation))\n",
    "            publication_string += f\", {place}\"\n",
    "        prompt = f\"{prompt} {publication_string}\"\n",
    "\n",
    "    for prop in extra_properties:\n",
    "        instance_properties = instance.get(prop['name'], [])\n",
    "        if len(instance_properties) < 1:\n",
    "            continue\n",
    "        extra_prop_string = f\"{prop['name'].capitalize()} {prop['predicate']} \"\n",
    "        extra_prop_values = []\n",
    "        prefix = prop.get(\"prefix\")\n",
    "        for row in instance_properties:\n",
    "            row_str = \"\"\n",
    "            if prefix:\n",
    "                row_str = f\"{row.get(prefix)} \"\n",
    "            value_key = prop.get(\"value\", \"value\")\n",
    "            row_str += f\"{row.get(value_key)}\"\n",
    "            extra_prop_values.append(row_str)\n",
    "        extra_prop_string += ', '.join(extra_prop_values)\n",
    "        prompt = f\"{prompt} {extra_prop_string}.\"\n",
    "    return prompt"
   ]
  },
  {
   "cell_type": "code",
   "execution_count": 3,
   "id": "fb71aa65-e117-4723-b95b-748d695c8b56",
   "metadata": {},
   "outputs": [],
   "source": [
    "lookups = folio_id_lookups(folio_client)"
   ]
  },
  {
   "cell_type": "code",
   "execution_count": 90,
   "id": "ef0c4435-76c1-4c50-a61a-349d62874156",
   "metadata": {},
   "outputs": [
    {
     "name": "stdout",
     "output_type": "stream",
     "text": [
      "8328626\n"
     ]
    }
   ],
   "source": [
    "print(folio_client.folio_get(\"/inventory/instances\").get(\"totalRecords\"))"
   ]
  },
  {
   "cell_type": "code",
   "execution_count": 111,
   "id": "6aa2aaee-7405-4749-9490-b9406c60aa13",
   "metadata": {},
   "outputs": [
    {
     "data": {
      "text/plain": [
       "'Interviewee'"
      ]
     },
     "execution_count": 111,
     "metadata": {},
     "output_type": "execute_result"
    }
   ],
   "source": [
    "lookups[\"contributorTypeId\"].get(\"d1249dbe-5f1c-4dc3-9192-239621c71bf4\")"
   ]
  },
  {
   "cell_type": "code",
   "execution_count": null,
   "id": "cc5b2007-7002-41f5-84d8-5107ee2d1905",
   "metadata": {},
   "outputs": [],
   "source": []
  },
  {
   "cell_type": "markdown",
   "id": "6e4112c1-5447-4c9b-830e-cebb5749b00f",
   "metadata": {},
   "source": [
    "## Create 1k Sample"
   ]
  },
  {
   "cell_type": "code",
   "execution_count": 93,
   "id": "6d3eeb20-a350-486a-a262-1337d79c4181",
   "metadata": {},
   "outputs": [
    {
     "name": "stdout",
     "output_type": "stream",
     "text": [
      "Starting 1k sample for fine-tuning at 2024-09-16 20:58:46.268627+00:00\n",
      "0.........100..........200..........300..........400..........500..........600..........700..........800..........900..........Starting Sample for Training\n"
     ]
    },
    {
     "ename": "TypeError",
     "evalue": "normalize() missing 1 required positional argument: 'folio_lookups'",
     "output_type": "error",
     "traceback": [
      "\u001b[0;31m---------------------------------------------------------------------------\u001b[0m",
      "\u001b[0;31mTypeError\u001b[0m                                 Traceback (most recent call last)",
      "Cell \u001b[0;32mIn[93], line 18\u001b[0m\n\u001b[1;32m     16\u001b[0m \u001b[38;5;28;01mwith\u001b[39;00m \u001b[38;5;28mopen\u001b[39m(\u001b[38;5;124m\"\u001b[39m\u001b[38;5;124mtraining-02024-09-16.jsonl\u001b[39m\u001b[38;5;124m\"\u001b[39m, \u001b[38;5;124m\"\u001b[39m\u001b[38;5;124mw+\u001b[39m\u001b[38;5;124m\"\u001b[39m) \u001b[38;5;28;01mas\u001b[39;00m fo:\n\u001b[1;32m     17\u001b[0m     \u001b[38;5;28;01mfor\u001b[39;00m record \u001b[38;5;129;01min\u001b[39;00m original_records:\n\u001b[0;32m---> 18\u001b[0m         record \u001b[38;5;241m=\u001b[39m \u001b[43mnormalize\u001b[49m\u001b[43m(\u001b[49m\u001b[43mrecord\u001b[49m\u001b[43m)\u001b[49m\n\u001b[1;32m     19\u001b[0m         extra_properties \u001b[38;5;241m=\u001b[39m []\n\u001b[1;32m     20\u001b[0m         \u001b[38;5;66;03m# For 40% of the time include subjects\u001b[39;00m\n",
      "\u001b[0;31mTypeError\u001b[0m: normalize() missing 1 required positional argument: 'folio_lookups'"
     ]
    }
   ],
   "source": [
    "start = datetime.datetime.now(datetime.UTC)\n",
    "print(f\"Starting 1k sample for fine-tuning at {start}\")\n",
    "original_records = []\n",
    "for i in range(1_000):\n",
    "    offset = random.randint(1, 8328626) - 1\n",
    "    instance = folio_client.folio_get(\"/inventory/instances\", key=\"instances\", query_params={ \"limit\": 1, \"offset\": offset})\n",
    "    original_records.append(instance[0])\n",
    "    if not i%100:\n",
    "        print(f\"{i}\", end=\"\")\n",
    "    if not i%10 and i > 0:\n",
    "        print(\".\", end=\"\")\n",
    "with open(\"sample-02024-09-16-original.jsonl\", \"w+\") as fo:\n",
    "    for record in original_records:\n",
    "        fo.write(f\"{json.dumps(record)}\\n\")"
   ]
  },
  {
   "cell_type": "code",
   "execution_count": 95,
   "id": "0dce6454-06de-4f7c-a89d-8bc9ae727530",
   "metadata": {},
   "outputs": [],
   "source": [
    "unique_uuids = set([r['id'] for r in original_records])"
   ]
  },
  {
   "cell_type": "code",
   "execution_count": 4,
   "id": "6303c2cc-d4f2-495e-b4d5-068a7c8eba42",
   "metadata": {},
   "outputs": [],
   "source": [
    "with open(\"sample-02024-09-16-original.jsonl\") as fo:\n",
    "    original_records = [json.loads(line) for line in fo.readlines()]"
   ]
  },
  {
   "cell_type": "code",
   "execution_count": 7,
   "id": "a0c3e2b3-e52b-449e-9a55-f2cedc53508d",
   "metadata": {},
   "outputs": [
    {
     "name": "stdout",
     "output_type": "stream",
     "text": [
      "Starting Sample for Training at 2024-09-16 23:48:37.553512+00:00\n",
      "Finished at 2024-09-16 23:48:37.619868+00:00, total time for 1k sample is 0.0 minutes\n"
     ]
    }
   ],
   "source": [
    "start = datetime.datetime.now(datetime.UTC)\n",
    "print(f\"Starting Sample for Training at {start}\")\n",
    "with open(\"training-02024-09-16.jsonl\", \"w+\") as fo:\n",
    "    for record in original_records:\n",
    "        record = normalize(record, lookups)\n",
    "        extra_properties = []\n",
    "        # For 40% of the time include subjects\n",
    "        if \"subjects\" in record and random.random() >= .6:\n",
    "            extra_properties.append(\n",
    "                {\n",
    "                    \"name\": \"subjects\",\n",
    "                    \"predicate\": \"are\"\n",
    "                }\n",
    "            )\n",
    "        else:\n",
    "            # Remove subjects\n",
    "            if \"subjects\" in record:\n",
    "                record.pop(\"subjects\")\n",
    "        # For 20% of the time include identifiers\n",
    "        if \"identifiers\" in record and random.random() >= .8:\n",
    "            extra_properties.append(\n",
    "                {\n",
    "                    \"name\": \"identifiers\",\n",
    "                    \"predicate\": \"are\",\n",
    "                    \"prefix\": \"identifierTypeText\"\n",
    "                }\n",
    "            )\n",
    "        else:\n",
    "            if \"identifiers\" in record:\n",
    "                record.pop(\"identifiers\")\n",
    "        # For 30% of the time include classification\n",
    "        if \"classifications\" in record and random.random() >= .7:\n",
    "            extra_properties.append(\n",
    "                {\n",
    "                    \"name\": \"classifications\",\n",
    "                    \"predicate\": \"are\",\n",
    "                    \"prefix\": \"classificationTypeText\",\n",
    "                    \"value\": \"classificationNumber\"\n",
    "                }\n",
    "            )\n",
    "        else:\n",
    "            if \"classifications\" in record:\n",
    "                record.pop(\"classifications\")\n",
    "        prompt = create_prompt(record, extra_properties)\n",
    "        sample = { \"prompt\": prompt,\n",
    "                   \"record\": record }\n",
    "        fo.write(f\"{json.dumps(sample)}\\n\")\n",
    "end = datetime.datetime.now(datetime.UTC)\n",
    "print(f\"Finished at {end}, total time for 1k sample is {(end-start).seconds / 60.} minutes\")"
   ]
  },
  {
   "cell_type": "code",
   "execution_count": 8,
   "id": "4c7084c3-3c99-4cf0-98b0-39622c95a0e4",
   "metadata": {},
   "outputs": [],
   "source": [
    "with open(\"training-02024-09-16.jsonl\") as fo:\n",
    "    training_records = [json.loads(line) for line in fo.readlines()]"
   ]
  },
  {
   "cell_type": "code",
   "execution_count": 122,
   "id": "65401312-5d47-453b-9a86-6de90c214b90",
   "metadata": {},
   "outputs": [
    {
     "data": {
      "text/plain": [
       "'Issn'"
      ]
     },
     "execution_count": 122,
     "metadata": {},
     "output_type": "execute_result"
    }
   ],
   "source": [
    "\"ISSN\".capitalize()"
   ]
  },
  {
   "cell_type": "code",
   "execution_count": 109,
   "id": "268cae5a-4b21-416b-8267-c51234e2143d",
   "metadata": {},
   "outputs": [],
   "source": [
    "for i,record in enumerate(training_records):\n",
    "    for contributor in record.get(\"contributors\",[]):\n",
    "        if contributor['contributorTypeText'].startswith(\"Author\"):\n",
    "            print(i, end=\" \")"
   ]
  },
  {
   "cell_type": "code",
   "execution_count": 114,
   "id": "611889c9-9618-433d-b285-80a9f67547df",
   "metadata": {},
   "outputs": [],
   "source": [
    "frequency_contributors = { None: 0 }\n",
    "for record in original_records:\n",
    "    for contributor in record.get(\"contributors\", []):\n",
    "        contributor_type_id = contributor.get(\"contributorTypeId\")\n",
    "        if contributor_type_id is None:\n",
    "            frequency_contributors[None] += 1\n",
    "        contributor_type_text = lookups[\"contributorTypeId\"].get(contributor_type_id)\n",
    "        if contributor_type_text in frequency_contributors:\n",
    "            frequency_contributors[contributor_type_text] += 1\n",
    "        else:\n",
    "            frequency_contributors[contributor_type_text] = 1"
   ]
  },
  {
   "cell_type": "code",
   "execution_count": 115,
   "id": "1578b0fe-24f2-4769-8212-cb2bd6045d7a",
   "metadata": {},
   "outputs": [
    {
     "data": {
      "text/plain": [
       "{None: 3004,\n",
       " 'Interviewee': 1,\n",
       " 'Interviewer': 1,\n",
       " 'Compiler': 1,\n",
       " 'Author': 78,\n",
       " 'Addressee': 1,\n",
       " 'Editor': 42,\n",
       " 'Performer': 11,\n",
       " 'Artist': 2,\n",
       " 'Host institution': 8,\n",
       " 'Issuing body': 7,\n",
       " 'Composer': 2,\n",
       " 'Lyricist': 1,\n",
       " 'Conductor': 1,\n",
       " 'Respondent': 1,\n",
       " 'Other': 3,\n",
       " 'Illustrator': 1,\n",
       " 'Printer': 2,\n",
       " 'Editor of compilation': 2,\n",
       " 'Librettist': 2,\n",
       " 'Translator': 2,\n",
       " 'Instrumentalist': 1}"
      ]
     },
     "execution_count": 115,
     "metadata": {},
     "output_type": "execute_result"
    }
   ],
   "source": [
    "frequency_contributors"
   ]
  },
  {
   "cell_type": "markdown",
   "id": "3b00d303-61bb-4d34-94a3-3460a12e0576",
   "metadata": {},
   "source": [
    "## Create training text"
   ]
  },
  {
   "cell_type": "code",
   "execution_count": 10,
   "id": "e81a9761-b6f7-48db-8e8a-bbd380c29c23",
   "metadata": {},
   "outputs": [],
   "source": [
    "with open(\"training-02024-09-16.txt\", \"w+\") as fo:\n",
    "    for record in training_records:\n",
    "        fo.write(\n",
    "            f\"\"\"<SFT><s>[INST] <<SYS>\\n You an expert cataloger. From this prompt, create a FOLIO instance JSON record.\n",
    "<</SYS>>\n",
    "\n",
    "{record['prompt']} [/INST] {record['record']} \\n\"\"\")"
   ]
  },
  {
   "cell_type": "code",
   "execution_count": null,
   "id": "a9a3cdc0-ff9c-4e3f-bbb6-2fa4e7b860a1",
   "metadata": {},
   "outputs": [],
   "source": []
  }
 ],
 "metadata": {
  "kernelspec": {
   "display_name": "Python 3 (ipykernel)",
   "language": "python",
   "name": "python3"
  },
  "language_info": {
   "codemirror_mode": {
    "name": "ipython",
    "version": 3
   },
   "file_extension": ".py",
   "mimetype": "text/x-python",
   "name": "python",
   "nbconvert_exporter": "python",
   "pygments_lexer": "ipython3",
   "version": "3.12.3"
  }
 },
 "nbformat": 4,
 "nbformat_minor": 5
}
